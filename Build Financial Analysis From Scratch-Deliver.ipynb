{
 "cells": [
  {
   "cell_type": "markdown",
   "metadata": {},
   "source": [
    "# Build Financial Analysis From Scratch"
   ]
  },
  {
   "cell_type": "code",
   "execution_count": 1,
   "metadata": {},
   "outputs": [],
   "source": [
    "import pandas as pd\n",
    "import numpy as np\n",
    "import io, os, sys,pickle\n",
    "from datetime import datetime\n",
    "import ipywidgets as widgets\n",
    "\n",
    "import SelectInput\n",
    "import Structured\n",
    "import ParseTweet"
   ]
  },
  {
   "cell_type": "code",
   "execution_count": 95,
   "metadata": {},
   "outputs": [],
   "source": [
    "%matplotlib inline\n",
    "import matplotlib\n",
    "import seaborn as sns\n",
    "sns.set()\n",
    "matplotlib.rcParams['figure.dpi'] = 144\n",
    "import matplotlib.pyplot as plt"
   ]
  },
  {
   "cell_type": "markdown",
   "metadata": {},
   "source": [
    "## INTRODUCTION"
   ]
  },
  {
   "cell_type": "markdown",
   "metadata": {},
   "source": [
    "Financial analyst and regulators often rely on the ratio analysis to investigate a company. For example, the current ratio has to be above a certain threshold to be considered liquid.\n",
    "\n",
    "However, financial statements may not be available to invetors. This is not rare, especially among foreign companies and new comers. This notebook gives predicted current ratios based on\n",
    "two types of input:\n",
    "\n",
    "1. **Basic Information:**\n",
    "    * Company Name\n",
    "    * Address\n",
    "    * Industry\n",
    "    \n",
    "2. **Twitter**\n",
    "\n",
    "The method is scalable to produce other ratios in future. \n",
    "\n",
    "The rest of this notebook is arranged as follows:\n",
    "1. Introduction\n",
    "2. Method\n",
    "3. Setup Model Input\n",
    "    * setup input of basic information\n",
    "    * setup input of tweets\n",
    "4. Load the pre-trained Model\n",
    "    * make predictions\n",
    "    * plot the predicted current ratio from 2009Q4 to 2018Q4"
   ]
  },
  {
   "cell_type": "markdown",
   "metadata": {},
   "source": [
    "## METHOD"
   ]
  },
  {
   "cell_type": "markdown",
   "metadata": {},
   "source": [
    "### Model \n",
    "\n",
    "I use `y` to denote the current ratio of interest, `X` the basic information of the company, `Z` as information extracted from Twitter tweets. I train the model in two steps:\n",
    "\n",
    "* First, I run a linear regression to get the mean estimator, $\\hat{y}$.\n",
    "\n",
    "$$ y = \\beta X + \\beta_0 + \\varepsilon $$\n",
    "$$ \\hat{y} = \\hat{\\beta} X + \\hat{\\beta}_0 $$\n",
    "\n",
    "* Second, I construct the residual of each observation to label the corresponding tweet,\n",
    "\n",
    "$$ y-\\hat{y} = f(Z) + \\mu $$\n",
    "\n",
    "* The combined estimator is $ \\hat{y} + f(Z) $\n",
    "\n",
    "### Training Data\n",
    "\n",
    "I construct current ratio, `y`, from over 80 million SEC financial statement filing entries, ranging from 2009 to 2019. The full dataset includes 36,136 SEC registered companies. The current ratio analysis takes a subset of all companies, which is around 10,000.\n",
    "\n",
    "`X` is also from the above SEC filing data, `form sub`.\n",
    "\n",
    "I use the [Twitter Scraper](https://github.com/jonbakerfish/TweetScraper) developed by `jonbakerfish` to scrape all historical top tweet of sample companies and group all tweets by post date. Each observation of `Z` contains all tweets from the quarter before the posting date of the corresponding quarterly current ratio. Tweets are transformed using `Hashing Vectorizer` before feeding to the estimator.\n",
    "\n",
    "### Model Performance\n",
    "\n",
    "I use `Ridge` estimator from `sklearn` in both step. I also tried other `Linear Regressors` and `Ensemble Models`, which are either worse than or similar to `Ridge`.\n",
    "\n",
    "The naive mean estimator has 0.26 cross validation $R^2$. The residual estimator using twitter tweets has 0.78 cross validation $R^2$, and the combined estimator has 0.8 cross validation $R^2$.\n",
    "    "
   ]
  },
  {
   "cell_type": "markdown",
   "metadata": {},
   "source": [
    "## SETUP MODEL INPUT"
   ]
  },
  {
   "cell_type": "markdown",
   "metadata": {},
   "source": [
    "**Enter the name of the company**"
   ]
  },
  {
   "cell_type": "code",
   "execution_count": 3,
   "metadata": {},
   "outputs": [],
   "source": [
    "company_name = SelectInput.company_name_widget() "
   ]
  },
  {
   "cell_type": "code",
   "execution_count": 4,
   "metadata": {},
   "outputs": [
    {
     "data": {
      "application/vnd.jupyter.widget-view+json": {
       "model_id": "5d2fb8f9f1db4c5587f43e41518892bf",
       "version_major": 2,
       "version_minor": 0
      },
      "text/plain": [
       "Text(value='', description='Name', placeholder='Zara Inc')"
      ]
     },
     "metadata": {},
     "output_type": "display_data"
    }
   ],
   "source": [
    "company_name # Please enter the name of the company"
   ]
  },
  {
   "cell_type": "code",
   "execution_count": 5,
   "metadata": {},
   "outputs": [
    {
     "data": {
      "text/plain": [
       "'Zara Inc'"
      ]
     },
     "execution_count": 5,
     "metadata": {},
     "output_type": "execute_result"
    }
   ],
   "source": [
    "Company_Name = company_name.value\n",
    "Company_Name"
   ]
  },
  {
   "cell_type": "markdown",
   "metadata": {},
   "source": [
    "**Enter the country**"
   ]
  },
  {
   "cell_type": "markdown",
   "metadata": {},
   "source": [
    "Select the country origin of the company from the dropdown menu below. Select `Other` if you are not sure about it. The prediction is more accurate if you choose it correctly."
   ]
  },
  {
   "cell_type": "code",
   "execution_count": 27,
   "metadata": {
    "scrolled": true
   },
   "outputs": [],
   "source": [
    "country_select = SelectInput.country_select_widget()"
   ]
  },
  {
   "cell_type": "code",
   "execution_count": 28,
   "metadata": {},
   "outputs": [
    {
     "data": {
      "application/vnd.jupyter.widget-view+json": {
       "model_id": "5d4c55897c24483fb23cbe4239cc2e78",
       "version_major": 2,
       "version_minor": 0
      },
      "text/plain": [
       "Select(description='Country:', index=92, options=('Anguilla', 'Antigua and Barbuda', 'Argentina', 'Armenia', '…"
      ]
     },
     "metadata": {},
     "output_type": "display_data"
    }
   ],
   "source": [
    "country_select"
   ]
  },
  {
   "cell_type": "code",
   "execution_count": 29,
   "metadata": {},
   "outputs": [],
   "source": [
    "countryba = SelectInput.country_dict[country_select.value]"
   ]
  },
  {
   "cell_type": "code",
   "execution_count": 30,
   "metadata": {},
   "outputs": [
    {
     "data": {
      "text/plain": [
       "'IT'"
      ]
     },
     "execution_count": 30,
     "metadata": {},
     "output_type": "execute_result"
    }
   ],
   "source": [
    "countryba"
   ]
  },
  {
   "cell_type": "markdown",
   "metadata": {},
   "source": [
    "**Enter state if US or Canada**"
   ]
  },
  {
   "cell_type": "markdown",
   "metadata": {},
   "source": [
    "If you are checking a US or Canada company, select the state of the company from the dropdown menu below. If you are checking other countries, simply run the following cells."
   ]
  },
  {
   "cell_type": "code",
   "execution_count": 31,
   "metadata": {},
   "outputs": [],
   "source": [
    "state_select = SelectInput.state_select_widget(countryba)"
   ]
  },
  {
   "cell_type": "code",
   "execution_count": 32,
   "metadata": {},
   "outputs": [],
   "source": [
    "state_select"
   ]
  },
  {
   "cell_type": "code",
   "execution_count": 33,
   "metadata": {},
   "outputs": [],
   "source": [
    "if (countryba == 'US') | (countryba == 'CA'):\n",
    "    stprba = state_select.value\n",
    "else: stprba = '0'"
   ]
  },
  {
   "cell_type": "code",
   "execution_count": 34,
   "metadata": {},
   "outputs": [
    {
     "data": {
      "text/plain": [
       "'0'"
      ]
     },
     "execution_count": 34,
     "metadata": {},
     "output_type": "execute_result"
    }
   ],
   "source": [
    "stprba"
   ]
  },
  {
   "cell_type": "markdown",
   "metadata": {},
   "source": [
    "**Enter the industry code**"
   ]
  },
  {
   "cell_type": "markdown",
   "metadata": {},
   "source": [
    "Select the division and industry of the company from the dropdown menu below. Select `Other` if you are not sure about it. The prediction is more accurate if you choose it correctly."
   ]
  },
  {
   "cell_type": "code",
   "execution_count": 35,
   "metadata": {},
   "outputs": [],
   "source": [
    "division_select = SelectInput.division_select_widget()"
   ]
  },
  {
   "cell_type": "code",
   "execution_count": 36,
   "metadata": {},
   "outputs": [
    {
     "data": {
      "application/vnd.jupyter.widget-view+json": {
       "model_id": "0120156ce74749e6a462e1ba514aeff3",
       "version_major": 2,
       "version_minor": 0
      },
      "text/plain": [
       "Select(description='Division', index=3, options=('Agriculture, Forestry, and Fishing', 'Construction', 'Financ…"
      ]
     },
     "metadata": {},
     "output_type": "display_data"
    }
   ],
   "source": [
    "division_select"
   ]
  },
  {
   "cell_type": "code",
   "execution_count": 37,
   "metadata": {},
   "outputs": [],
   "source": [
    "div = division_select.value\n",
    "industry_select = SelectInput.industry_select_widget(div)"
   ]
  },
  {
   "cell_type": "code",
   "execution_count": 38,
   "metadata": {},
   "outputs": [
    {
     "data": {
      "application/vnd.jupyter.widget-view+json": {
       "model_id": "eb7091c503fe46b7a7e0c056adee604c",
       "version_major": 2,
       "version_minor": 0
      },
      "text/plain": [
       "Select(description='Industry', options=('RETAIL-APPAREL & ACCESSORY STORES', 'RETAIL-AUTO & HOME SUPPLY STORES…"
      ]
     },
     "metadata": {},
     "output_type": "display_data"
    }
   ],
   "source": [
    "industry_select"
   ]
  },
  {
   "cell_type": "code",
   "execution_count": 39,
   "metadata": {},
   "outputs": [],
   "source": [
    "sic = SelectInput.sic_reg[SelectInput.sic_reg['industry']==industry_select.value]['sic'].values[0]\n",
    "\n"
   ]
  },
  {
   "cell_type": "code",
   "execution_count": 40,
   "metadata": {},
   "outputs": [
    {
     "data": {
      "text/plain": [
       "'5600'"
      ]
     },
     "execution_count": 40,
     "metadata": {},
     "output_type": "execute_result"
    }
   ],
   "source": [
    "sic"
   ]
  },
  {
   "cell_type": "markdown",
   "metadata": {},
   "source": [
    "**Select size of the company**"
   ]
  },
  {
   "cell_type": "markdown",
   "metadata": {},
   "source": [
    "If you think the company has more than 700 million public float, select afs_1-LAF; 75 million to 700 million, select afs_2-ACC; below 75 million, select afs_3 to afs_5 corresponding to descending size."
   ]
  },
  {
   "cell_type": "code",
   "execution_count": 41,
   "metadata": {},
   "outputs": [],
   "source": [
    "afs_select = SelectInput.afs_select_widget()"
   ]
  },
  {
   "cell_type": "code",
   "execution_count": 42,
   "metadata": {},
   "outputs": [
    {
     "data": {
      "application/vnd.jupyter.widget-view+json": {
       "model_id": "2839986ed70d4efe8f5293ee1c2ef379",
       "version_major": 2,
       "version_minor": 0
      },
      "text/plain": [
       "Select(description='Size', options=('afs_1-LAF', 'afs_2-ACC', 'afs_3-SRA', 'afs_4-NON', 'afs_5-SML'), value='a…"
      ]
     },
     "metadata": {},
     "output_type": "display_data"
    }
   ],
   "source": [
    "afs_select"
   ]
  },
  {
   "cell_type": "code",
   "execution_count": 43,
   "metadata": {},
   "outputs": [],
   "source": [
    "afs = afs_select.value"
   ]
  },
  {
   "cell_type": "code",
   "execution_count": 44,
   "metadata": {},
   "outputs": [
    {
     "data": {
      "text/plain": [
       "'afs_1-LAF'"
      ]
     },
     "execution_count": 44,
     "metadata": {},
     "output_type": "execute_result"
    }
   ],
   "source": [
    "afs"
   ]
  },
  {
   "cell_type": "markdown",
   "metadata": {},
   "source": [
    "**Get Structured Data**\n",
    "\n",
    "Put all five types of structured data together in `test`:\n",
    "1. sic_\n",
    "2. t_2009q4 to t_2019q4\n",
    "3. countryba_\n",
    "4. stprba_\n",
    "5. afs_"
   ]
  },
  {
   "cell_type": "code",
   "execution_count": 45,
   "metadata": {},
   "outputs": [],
   "source": [
    "test_X = Structured.getX(sic,countryba,stprba,afs)"
   ]
  },
  {
   "cell_type": "markdown",
   "metadata": {},
   "source": [
    "**Get Tweets**\n",
    "\n",
    "Use TweetScraper to search top tweet related to the Company of interest. "
   ]
  },
  {
   "cell_type": "code",
   "execution_count": 102,
   "metadata": {},
   "outputs": [
    {
     "data": {
      "text/plain": [
       "'Zara Inc'"
      ]
     },
     "execution_count": 102,
     "metadata": {},
     "output_type": "execute_result"
    }
   ],
   "source": [
    "Company_Name"
   ]
  },
  {
   "cell_type": "code",
   "execution_count": 103,
   "metadata": {},
   "outputs": [],
   "source": [
    "with open('get_tweet.sh','w') as f:\n",
    "    f.write('#!/bin/bash\\n')\n",
    "    f.write('rm -r ./Data;\\n')\n",
    "    f.write('scrapy crawl TweetScraper -a query=\"'+Company_Name+'\"'+' -a top_tweet=True')"
   ]
  },
  {
   "cell_type": "markdown",
   "metadata": {},
   "source": [
    "Install the following packages only before using for the first time."
   ]
  },
  {
   "cell_type": "code",
   "execution_count": null,
   "metadata": {},
   "outputs": [],
   "source": [
    "pip install mysql-connector-python"
   ]
  },
  {
   "cell_type": "code",
   "execution_count": null,
   "metadata": {
    "scrolled": false
   },
   "outputs": [],
   "source": [
    "pip install scrapy"
   ]
  },
  {
   "cell_type": "code",
   "execution_count": null,
   "metadata": {},
   "outputs": [],
   "source": [
    "pip install pymongo"
   ]
  },
  {
   "cell_type": "markdown",
   "metadata": {},
   "source": [
    "Scrape tweet and parse tweet to dataframe."
   ]
  },
  {
   "cell_type": "code",
   "execution_count": null,
   "metadata": {},
   "outputs": [],
   "source": [
    "! bash ./get_tweet.sh"
   ]
  },
  {
   "cell_type": "code",
   "execution_count": 105,
   "metadata": {},
   "outputs": [],
   "source": [
    "tweet_df = ParseTweet.get_text()"
   ]
  },
  {
   "cell_type": "markdown",
   "metadata": {},
   "source": [
    "## LOAD MODEL"
   ]
  },
  {
   "cell_type": "code",
   "execution_count": 111,
   "metadata": {},
   "outputs": [
    {
     "name": "stderr",
     "output_type": "stream",
     "text": [
      "/anaconda3/lib/python3.6/site-packages/sklearn/base.py:253: UserWarning: Trying to unpickle estimator Ridge from version 0.19.1 when using version 0.20.3. This might lead to breaking code or invalid results. Use at your own risk.\n",
      "  UserWarning)\n"
     ]
    }
   ],
   "source": [
    "with open('ridgemodel.pickle','rb') as f:\n",
    "    ridgemodel = pickle.load(f)"
   ]
  },
  {
   "cell_type": "markdown",
   "metadata": {},
   "source": [
    "The following cell generates naive mean estimator."
   ]
  },
  {
   "cell_type": "code",
   "execution_count": 47,
   "metadata": {},
   "outputs": [],
   "source": [
    "y_hat = ridgemodel.predict(test_X)"
   ]
  },
  {
   "cell_type": "code",
   "execution_count": null,
   "metadata": {},
   "outputs": [],
   "source": [
    "with open('sentimentmodel.pickle','rb') as f:\n",
    "    sentiment = pickle.load(f)"
   ]
  },
  {
   "cell_type": "code",
   "execution_count": null,
   "metadata": {},
   "outputs": [],
   "source": [
    "res = sentiment.predict(tweet_df['text'])"
   ]
  },
  {
   "cell_type": "markdown",
   "metadata": {},
   "source": [
    "The following cell generates the combined estimator on the Current Ratio from 2009Q4 to 2018Q4. Some companies do not have related twitter posting during certain quarters, the combined estimator will equal to the mean estimator during these periods. "
   ]
  },
  {
   "cell_type": "code",
   "execution_count": 75,
   "metadata": {},
   "outputs": [],
   "source": [
    "current_ratio = y_hat.reshape(1,-1) + res.reshape(1,-1)"
   ]
  },
  {
   "cell_type": "code",
   "execution_count": 89,
   "metadata": {},
   "outputs": [],
   "source": [
    "t_list= ['2009q4']+[str(y)+'q'+str(q+1) \n",
    "                    for y in range(2010,2019) for q in range(4)]\n",
    "cr_df = pd.DataFrame(data = {'t':t_list, \n",
    "                    'CurrentRatio':current_ratio.tolist()[0],\n",
    "                    'MeanEstimator':y_hat.reshape(1,-1).tolist()[0]}).set_index('t')"
   ]
  },
  {
   "cell_type": "code",
   "execution_count": 90,
   "metadata": {},
   "outputs": [
    {
     "data": {
      "text/html": [
       "<div>\n",
       "<style scoped>\n",
       "    .dataframe tbody tr th:only-of-type {\n",
       "        vertical-align: middle;\n",
       "    }\n",
       "\n",
       "    .dataframe tbody tr th {\n",
       "        vertical-align: top;\n",
       "    }\n",
       "\n",
       "    .dataframe thead th {\n",
       "        text-align: right;\n",
       "    }\n",
       "</style>\n",
       "<table border=\"1\" class=\"dataframe\">\n",
       "  <thead>\n",
       "    <tr style=\"text-align: right;\">\n",
       "      <th></th>\n",
       "      <th>CurrentRatio</th>\n",
       "      <th>MeanEstimator</th>\n",
       "    </tr>\n",
       "    <tr>\n",
       "      <th>t</th>\n",
       "      <th></th>\n",
       "      <th></th>\n",
       "    </tr>\n",
       "  </thead>\n",
       "  <tbody>\n",
       "    <tr>\n",
       "      <th>2009q4</th>\n",
       "      <td>-0.951959</td>\n",
       "      <td>-1.385456</td>\n",
       "    </tr>\n",
       "    <tr>\n",
       "      <th>2010q1</th>\n",
       "      <td>-3.530104</td>\n",
       "      <td>2.497829</td>\n",
       "    </tr>\n",
       "    <tr>\n",
       "      <th>2010q2</th>\n",
       "      <td>-12.295744</td>\n",
       "      <td>2.015293</td>\n",
       "    </tr>\n",
       "    <tr>\n",
       "      <th>2010q3</th>\n",
       "      <td>-38.616144</td>\n",
       "      <td>1.950858</td>\n",
       "    </tr>\n",
       "    <tr>\n",
       "      <th>2010q4</th>\n",
       "      <td>-60.873726</td>\n",
       "      <td>1.626162</td>\n",
       "    </tr>\n",
       "  </tbody>\n",
       "</table>\n",
       "</div>"
      ],
      "text/plain": [
       "        CurrentRatio  MeanEstimator\n",
       "t                                  \n",
       "2009q4     -0.951959      -1.385456\n",
       "2010q1     -3.530104       2.497829\n",
       "2010q2    -12.295744       2.015293\n",
       "2010q3    -38.616144       1.950858\n",
       "2010q4    -60.873726       1.626162"
      ]
     },
     "execution_count": 90,
     "metadata": {},
     "output_type": "execute_result"
    }
   ],
   "source": [
    "cr_df.head()"
   ]
  },
  {
   "cell_type": "code",
   "execution_count": 101,
   "metadata": {},
   "outputs": [
    {
     "data": {
      "image/png": "[encoded data removed]",
      "text/plain": [
       "<Figure size 864x576 with 1 Axes>"
      ]
     },
     "metadata": {},
     "output_type": "display_data"
    }
   ],
   "source": [
    "plt.title(\"Current Ratio of \"+ Company_Name)\n",
    "\n",
    "plt.plot(cr_df['MeanEstimator'],label = 'Mean Estimator')\n",
    "plt.plot(cr_df['CurrentRatio'],label = 'Adjusted Estimator')\n",
    "plt.xlabel('Time')\n",
    "plt.xticks(np.arange(len(t_list)), t_list, rotation=80, fontsize=6)\n",
    "plt.legend(loc = 'best');"
   ]
  },
  {
   "cell_type": "code",
   "execution_count": null,
   "metadata": {},
   "outputs": [],
   "source": []
  }
 ],
 "metadata": {
  "kernelspec": {
   "display_name": "Python 3",
   "language": "python",
   "name": "python3"
  },
  "language_info": {
   "codemirror_mode": {
    "name": "ipython",
    "version": 3
   },
   "file_extension": ".py",
   "mimetype": "text/x-python",
   "name": "python",
   "nbconvert_exporter": "python",
   "pygments_lexer": "ipython3",
   "version": "3.6.8"
  }
 },
 "nbformat": 4,
 "nbformat_minor": 2
}
