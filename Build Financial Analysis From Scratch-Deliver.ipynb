{
 "cells": [
  {
   "cell_type": "markdown",
   "metadata": {},
   "source": [
    "# Build Financial Analysis From Scratch"
   ]
  },
  {
   "cell_type": "code",
   "execution_count": 192,
   "metadata": {},
   "outputs": [],
   "source": [
    "import pandas as pd\n",
    "import numpy as np\n",
    "import io, os, sys,pickle\n",
    "from datetime import datetime\n",
    "import ipywidgets as widgets\n",
    "\n",
    "import SelectInput\n",
    "import Structured\n",
    "import ParseTweet"
   ]
  },
  {
   "cell_type": "code",
   "execution_count": 218,
   "metadata": {},
   "outputs": [],
   "source": [
    "%matplotlib inline\n",
    "import matplotlib\n",
    "import seaborn as sns\n",
    "sns.set()\n",
    "matplotlib.rcParams['figure.dpi'] = 88\n",
    "import matplotlib.pyplot as plt"
   ]
  },
  {
   "cell_type": "code",
   "execution_count": 197,
   "metadata": {},
   "outputs": [
    {
     "data": {
      "text/plain": [
       "<module 'SelectInput' from '/home/jovyan/projecthiro/SelectInput.py'>"
      ]
     },
     "execution_count": 197,
     "metadata": {},
     "output_type": "execute_result"
    }
   ],
   "source": [
    "import importlib\n",
    "importlib.reload(SelectInput)"
   ]
  },
  {
   "cell_type": "code",
   "execution_count": 198,
   "metadata": {},
   "outputs": [
    {
     "data": {
      "text/plain": [
       "<module 'Structured' from '/home/jovyan/projecthiro/Structured.py'>"
      ]
     },
     "execution_count": 198,
     "metadata": {},
     "output_type": "execute_result"
    }
   ],
   "source": [
    "importlib.reload(Structured)"
   ]
  },
  {
   "cell_type": "markdown",
   "metadata": {},
   "source": [
    "## INTRODUCTION"
   ]
  },
  {
   "cell_type": "markdown",
   "metadata": {},
   "source": [
    "Financial analyst and regulators often rely on the ratio analysis to investigate a company. For example, the current ratio has to be above a certain threshold to be considered liquid.\n",
    "\n",
    "However, financial statements may not be available to invetors. This is not rare, especially among foreign companies and new comers. This notebook gives predicted current ratios based on\n",
    "two types of input:\n",
    "\n",
    "1. **Basic Information:**\n",
    "    * Company Name\n",
    "    * Address\n",
    "    * Industry\n",
    "    \n",
    "2. **Twitter**\n",
    "\n",
    "The method is scalable to produce other ratios in future. \n",
    "\n",
    "The rest of this notebook is arranged as follows:\n",
    "1. Introduction\n",
    "2. Method\n",
    "3. Setup Model Input\n",
    "    * setup input of basic information\n",
    "    * setup input of tweets\n",
    "4. Load the pre-trained Model\n",
    "    * make predictions\n",
    "    * plot the predicted current ratio from 2009Q4 to 2018Q4"
   ]
  },
  {
   "cell_type": "markdown",
   "metadata": {},
   "source": [
    "## METHOD"
   ]
  },
  {
   "cell_type": "markdown",
   "metadata": {},
   "source": [
    "** Model **\n",
    "\n",
    "I use `y` to denote the current ratio of interest, `X` the basic information of the company, `Z` as information extracted from Twitter tweets. I train the model in two steps:\n",
    "\n",
    "* First, I run a linear regression to get the mean estimator, $\\hat{y}$.\n",
    "\n",
    "$$ y = \\beta X + \\beta_0 + \\varepsilon $$\n",
    "$$ \\hat{y} = \\hat{\\beta} X + \\hat{\\beta}_0 $$\n",
    "\n",
    "* Second, I construct the residual of each observation to label the corresponding tweet,\n",
    "\n",
    "$$ y-\\hat{y} = f(Z) + \\mu $$\n",
    "\n",
    "* The combined estimator is $ \\hat{y} + f(Z) $\n",
    "\n",
    "** Training Data **\n",
    "\n",
    "I construct current ratio, `y`, from over 80 million SEC financial statement filing entries, ranging from 2009 to 2019. The full dataset includes 36,136 SEC registered companies. The current ratio analysis takes a subset of all companies, which is around 10,000.\n",
    "\n",
    "`X` is also from the above SEC filing data, `form sub`.\n",
    "\n",
    "I use the [Twitter Scraper](https://github.com/jonbakerfish/TweetScraper) developed by `jonbakerfish` to scrape all historical top tweet of sample companies and group all tweets by post date. Each observation of `Z` contains all tweets from the quarter before the posting date of the corresponding quarterly current ratio. Tweets are transformed using `Hashing Vectorizer` before feeding to the estimator.\n",
    "\n",
    "** Model Performance **\n",
    "\n",
    "I use `Ridge` estimator from `sklearn` in both step. I also tried other `Linear Regressors` and `Ensemble Models`, which are either worse than or similar to `Ridge`.\n",
    "\n",
    "The naive mean estimator has 0.26 cross validation $R^2$. The residual estimator using twitter tweets has 0.78 cross validation $R^2$, and the combined estimator has 0.8 cross validation $R^2$.\n",
    "    "
   ]
  },
  {
   "cell_type": "markdown",
   "metadata": {},
   "source": [
    "## SETUP MODEL INPUT"
   ]
  },
  {
   "cell_type": "markdown",
   "metadata": {},
   "source": [
    "** Enter the name of the company **"
   ]
  },
  {
   "cell_type": "code",
   "execution_count": 82,
   "metadata": {},
   "outputs": [],
   "source": [
    "company_name = SelectInput.company_name_widget() "
   ]
  },
  {
   "cell_type": "code",
   "execution_count": 83,
   "metadata": {},
   "outputs": [
    {
     "data": {
      "application/vnd.jupyter.widget-view+json": {
       "model_id": "0744effb398c4b32bc870e9e619fdf1f",
       "version_major": 2,
       "version_minor": 0
      },
      "text/html": [
       "<p>Failed to display Jupyter Widget of type <code>Text</code>.</p>\n",
       "<p>\n",
       "  If you're reading this message in the Jupyter Notebook or JupyterLab Notebook, it may mean\n",
       "  that the widgets JavaScript is still loading. If this message persists, it\n",
       "  likely means that the widgets JavaScript library is either not installed or\n",
       "  not enabled. See the <a href=\"https://ipywidgets.readthedocs.io/en/stable/user_install.html\">Jupyter\n",
       "  Widgets Documentation</a> for setup instructions.\n",
       "</p>\n",
       "<p>\n",
       "  If you're reading this message in another frontend (for example, a static\n",
       "  rendering on GitHub or <a href=\"https://nbviewer.jupyter.org/\">NBViewer</a>),\n",
       "  it may mean that your frontend doesn't currently support widgets.\n",
       "</p>\n"
      ],
      "text/plain": [
       "Text(value='', description='Name', placeholder='Zara Inc')"
      ]
     },
     "metadata": {},
     "output_type": "display_data"
    }
   ],
   "source": [
    "company_name # Please enter the name of the company"
   ]
  },
  {
   "cell_type": "code",
   "execution_count": 151,
   "metadata": {},
   "outputs": [
    {
     "data": {
      "text/plain": [
       "'Zara Inc'"
      ]
     },
     "execution_count": 151,
     "metadata": {},
     "output_type": "execute_result"
    }
   ],
   "source": [
    "Company_Name = company_name.value\n",
    "Company_Name"
   ]
  },
  {
   "cell_type": "markdown",
   "metadata": {},
   "source": [
    "** Enter the country **"
   ]
  },
  {
   "cell_type": "markdown",
   "metadata": {},
   "source": [
    "Select the country origin of the company from the dropdown menu below. Select `Other` if you are not sure about it. The prediction is more accurate if you choose it correctly."
   ]
  },
  {
   "cell_type": "code",
   "execution_count": 88,
   "metadata": {
    "scrolled": true
   },
   "outputs": [],
   "source": [
    "country_select = SelectInput.country_select_widget()"
   ]
  },
  {
   "cell_type": "code",
   "execution_count": 89,
   "metadata": {},
   "outputs": [
    {
     "data": {
      "application/vnd.jupyter.widget-view+json": {
       "model_id": "9cc7c55ce6a84bd09d0fd391b773c5d5",
       "version_major": 2,
       "version_minor": 0
      },
      "text/html": [
       "<p>Failed to display Jupyter Widget of type <code>Select</code>.</p>\n",
       "<p>\n",
       "  If you're reading this message in the Jupyter Notebook or JupyterLab Notebook, it may mean\n",
       "  that the widgets JavaScript is still loading. If this message persists, it\n",
       "  likely means that the widgets JavaScript library is either not installed or\n",
       "  not enabled. See the <a href=\"https://ipywidgets.readthedocs.io/en/stable/user_install.html\">Jupyter\n",
       "  Widgets Documentation</a> for setup instructions.\n",
       "</p>\n",
       "<p>\n",
       "  If you're reading this message in another frontend (for example, a static\n",
       "  rendering on GitHub or <a href=\"https://nbviewer.jupyter.org/\">NBViewer</a>),\n",
       "  it may mean that your frontend doesn't currently support widgets.\n",
       "</p>\n"
      ],
      "text/plain": [
       "Select(description='Country:', index=92, options=('Anguilla', 'Antigua and Barbuda', 'Argentina', 'Armenia', 'Australia', 'Austria', 'Bahamas', 'Barbados', 'Belgium', 'Belize', 'Bermuda', 'Brazil', 'Bulgaria', 'Cambodia', 'Canada', 'Cayman Islands', 'Chile', 'China', 'Colombia', 'Costa Rica', 'Cyprus', 'Czechia', 'Denmark', 'Dominican Republic', 'Ecuador', 'Egypt', 'El Salvador', 'Fiji', 'Finland', 'France', 'Georgia', 'Germany', 'Gibraltar', 'Greece', 'Grenada', 'Guam', 'Guatemala', 'Hong Kong', 'Hungary', 'India', 'Indonesia', 'Ireland', 'Isle of Man', 'Israel', 'Italy', 'Jamaica', 'Japan', 'Jersey', 'Jordan', 'Kazakhstan', 'Kenya', 'Korea, Republic of', 'Kyrgyzstan', 'Latvia', 'Lebanon', 'Lithuania', 'Luxembourg', 'Macao', 'Malaysia', 'Marshall Islands', 'Mexico', 'Moldova, Republic of', 'Monaco', 'Morocco', 'Netherlands', 'New Zealand', 'Norway', 'Other', 'Panama', 'Paraguay', 'Peru', 'Philippines', 'Poland', 'Portugal', 'Puerto Rico', 'Romania', 'Russian Federation', 'Serbia', 'Singapore', 'Slovakia', 'Slovenia', 'South Africa', 'Spain', 'Sweden', 'Switzerland', 'Taiwan, Province of China', 'Tanzania, United Republic of', 'Thailand', 'Turkey', 'Ukraine', 'United Arab Emirates', 'United Kingdom of Great Britain and Northern Ireland', 'United States of America', 'Uruguay', 'Viet Nam', 'Virgin Islands (British)', 'Virgin Islands (U.S.)'), value='United States of America')"
      ]
     },
     "metadata": {},
     "output_type": "display_data"
    }
   ],
   "source": [
    "country_select"
   ]
  },
  {
   "cell_type": "code",
   "execution_count": 137,
   "metadata": {},
   "outputs": [],
   "source": [
    "countryba = SelectInput.country_dict[country_select.value]"
   ]
  },
  {
   "cell_type": "code",
   "execution_count": 138,
   "metadata": {},
   "outputs": [
    {
     "data": {
      "text/plain": [
       "'Other'"
      ]
     },
     "execution_count": 138,
     "metadata": {},
     "output_type": "execute_result"
    }
   ],
   "source": [
    "countryba"
   ]
  },
  {
   "cell_type": "markdown",
   "metadata": {},
   "source": [
    "** Enter state if US or Canada **"
   ]
  },
  {
   "cell_type": "markdown",
   "metadata": {},
   "source": [
    "If you are checking a US or Canada company, select the state of the company from the dropdown menu below."
   ]
  },
  {
   "cell_type": "code",
   "execution_count": 139,
   "metadata": {},
   "outputs": [],
   "source": [
    "state_select = SelectInput.state_select_widget(countryba)"
   ]
  },
  {
   "cell_type": "code",
   "execution_count": 140,
   "metadata": {},
   "outputs": [],
   "source": [
    "state_select"
   ]
  },
  {
   "cell_type": "code",
   "execution_count": 141,
   "metadata": {},
   "outputs": [],
   "source": [
    "if (countryba == 'US') | (countryba == 'CA'):\n",
    "    stprba = state_select.value\n",
    "else: stprba = '0'"
   ]
  },
  {
   "cell_type": "code",
   "execution_count": 142,
   "metadata": {},
   "outputs": [
    {
     "data": {
      "text/plain": [
       "'0'"
      ]
     },
     "execution_count": 142,
     "metadata": {},
     "output_type": "execute_result"
    }
   ],
   "source": [
    "stprba"
   ]
  },
  {
   "cell_type": "markdown",
   "metadata": {},
   "source": [
    "** Enter the industry code **"
   ]
  },
  {
   "cell_type": "markdown",
   "metadata": {},
   "source": [
    "Select the division and industry of the company from the dropdown menu below. Select `Other` if you are not sure about it. The prediction is more accurate if you choose it correctly."
   ]
  },
  {
   "cell_type": "code",
   "execution_count": 100,
   "metadata": {},
   "outputs": [],
   "source": [
    "division_select = SelectInput.division_select_widget()"
   ]
  },
  {
   "cell_type": "code",
   "execution_count": 101,
   "metadata": {},
   "outputs": [
    {
     "data": {
      "application/vnd.jupyter.widget-view+json": {
       "model_id": "4954c158c6c448519fcdc6d93ddae286",
       "version_major": 2,
       "version_minor": 0
      },
      "text/html": [
       "<p>Failed to display Jupyter Widget of type <code>Select</code>.</p>\n",
       "<p>\n",
       "  If you're reading this message in the Jupyter Notebook or JupyterLab Notebook, it may mean\n",
       "  that the widgets JavaScript is still loading. If this message persists, it\n",
       "  likely means that the widgets JavaScript library is either not installed or\n",
       "  not enabled. See the <a href=\"https://ipywidgets.readthedocs.io/en/stable/user_install.html\">Jupyter\n",
       "  Widgets Documentation</a> for setup instructions.\n",
       "</p>\n",
       "<p>\n",
       "  If you're reading this message in another frontend (for example, a static\n",
       "  rendering on GitHub or <a href=\"https://nbviewer.jupyter.org/\">NBViewer</a>),\n",
       "  it may mean that your frontend doesn't currently support widgets.\n",
       "</p>\n"
      ],
      "text/plain": [
       "Select(description='Division', index=3, options=('Agriculture, Forestry, and Fishing', 'Construction', 'Finance, Insurance, and Real Estate', 'Manufacturing', 'Mining', 'Nonclassifiable Establishments', 'Retail Trade', 'Services', 'Transportation, Communications, Electric, Gas, and Sanitary Services', 'Wholesale Trade'), value='Manufacturing')"
      ]
     },
     "metadata": {},
     "output_type": "display_data"
    }
   ],
   "source": [
    "division_select"
   ]
  },
  {
   "cell_type": "code",
   "execution_count": 105,
   "metadata": {},
   "outputs": [],
   "source": [
    "div = division_select.value\n",
    "industry_select = SelectInput.industry_select_widget(div)"
   ]
  },
  {
   "cell_type": "code",
   "execution_count": 106,
   "metadata": {},
   "outputs": [
    {
     "data": {
      "application/vnd.jupyter.widget-view+json": {
       "model_id": "0eb6205682364a94a4268cb819b3dba0",
       "version_major": 2,
       "version_minor": 0
      },
      "text/html": [
       "<p>Failed to display Jupyter Widget of type <code>Select</code>.</p>\n",
       "<p>\n",
       "  If you're reading this message in the Jupyter Notebook or JupyterLab Notebook, it may mean\n",
       "  that the widgets JavaScript is still loading. If this message persists, it\n",
       "  likely means that the widgets JavaScript library is either not installed or\n",
       "  not enabled. See the <a href=\"https://ipywidgets.readthedocs.io/en/stable/user_install.html\">Jupyter\n",
       "  Widgets Documentation</a> for setup instructions.\n",
       "</p>\n",
       "<p>\n",
       "  If you're reading this message in another frontend (for example, a static\n",
       "  rendering on GitHub or <a href=\"https://nbviewer.jupyter.org/\">NBViewer</a>),\n",
       "  it may mean that your frontend doesn't currently support widgets.\n",
       "</p>\n"
      ],
      "text/plain": [
       "Select(description='Industry', options=('CONSTRUCTION - SPECIAL TRADE CONTRACTORS', 'ELECTRICAL WORK', 'GENERAL BLDG CONTRACTORS - NONRESIDENTIAL BLDGS', 'GENERAL BLDG CONTRACTORS - RESIDENTIAL BLDGS', 'HEAVY CONSTRUCTION OTHER THAN BLDG CONST - CONTRACTORS', 'OPERATIVE BUILDERS', 'WATER, SEWER, PIPELINE, COMM & POWER LINE CONSTRUCTION'), value='CONSTRUCTION - SPECIAL TRADE CONTRACTORS')"
      ]
     },
     "metadata": {},
     "output_type": "display_data"
    }
   ],
   "source": [
    "industry_select"
   ]
  },
  {
   "cell_type": "code",
   "execution_count": 107,
   "metadata": {},
   "outputs": [],
   "source": [
    "sic = SelectInput.sic_reg[SelectInput.sic_reg['industry']==industry_select.value]['sic'].values[0]\n",
    "\n"
   ]
  },
  {
   "cell_type": "code",
   "execution_count": 108,
   "metadata": {},
   "outputs": [
    {
     "data": {
      "text/plain": [
       "'1540'"
      ]
     },
     "execution_count": 108,
     "metadata": {},
     "output_type": "execute_result"
    }
   ],
   "source": [
    "sic"
   ]
  },
  {
   "cell_type": "markdown",
   "metadata": {},
   "source": [
    "** Select size of the company **"
   ]
  },
  {
   "cell_type": "code",
   "execution_count": 109,
   "metadata": {},
   "outputs": [],
   "source": [
    "afs_select = SelectInput.afs_select_widget()"
   ]
  },
  {
   "cell_type": "code",
   "execution_count": 110,
   "metadata": {},
   "outputs": [
    {
     "data": {
      "application/vnd.jupyter.widget-view+json": {
       "model_id": "167d03455e17494a87f65ee72785551d",
       "version_major": 2,
       "version_minor": 0
      },
      "text/html": [
       "<p>Failed to display Jupyter Widget of type <code>Select</code>.</p>\n",
       "<p>\n",
       "  If you're reading this message in the Jupyter Notebook or JupyterLab Notebook, it may mean\n",
       "  that the widgets JavaScript is still loading. If this message persists, it\n",
       "  likely means that the widgets JavaScript library is either not installed or\n",
       "  not enabled. See the <a href=\"https://ipywidgets.readthedocs.io/en/stable/user_install.html\">Jupyter\n",
       "  Widgets Documentation</a> for setup instructions.\n",
       "</p>\n",
       "<p>\n",
       "  If you're reading this message in another frontend (for example, a static\n",
       "  rendering on GitHub or <a href=\"https://nbviewer.jupyter.org/\">NBViewer</a>),\n",
       "  it may mean that your frontend doesn't currently support widgets.\n",
       "</p>\n"
      ],
      "text/plain": [
       "Select(description='Size', options=('afs_1-LAF', 'afs_2-ACC', 'afs_3-SRA', 'afs_4-NON', 'afs_5-SML'), value='afs_1-LAF')"
      ]
     },
     "metadata": {},
     "output_type": "display_data"
    }
   ],
   "source": [
    "afs_select"
   ]
  },
  {
   "cell_type": "code",
   "execution_count": 143,
   "metadata": {},
   "outputs": [],
   "source": [
    "afs = afs_select.value"
   ]
  },
  {
   "cell_type": "code",
   "execution_count": 144,
   "metadata": {},
   "outputs": [
    {
     "data": {
      "text/plain": [
       "'afs_1-LAF'"
      ]
     },
     "execution_count": 144,
     "metadata": {},
     "output_type": "execute_result"
    }
   ],
   "source": [
    "afs"
   ]
  },
  {
   "cell_type": "markdown",
   "metadata": {},
   "source": [
    "** Get Structured Data **\n",
    "\n",
    "Put all five types of structured data together in `test`:\n",
    "1. sic_\n",
    "2. t_2009q4 to t_2019q4\n",
    "3. countryba_\n",
    "4. stprba_\n",
    "5. afs_"
   ]
  },
  {
   "cell_type": "code",
   "execution_count": 199,
   "metadata": {},
   "outputs": [],
   "source": [
    "test_X = Structured.getX(sic,countryba,stprba,afs)"
   ]
  },
  {
   "cell_type": "markdown",
   "metadata": {},
   "source": [
    "** Get Tweets **\n",
    "\n",
    "Use TweetScraper to search top tweet related to the Company of interest. "
   ]
  },
  {
   "cell_type": "code",
   "execution_count": 152,
   "metadata": {},
   "outputs": [],
   "source": [
    "with open('get_tweet.sh','w') as f:\n",
    "    f.write('#!/bin/bash\\n')\n",
    "    f.write('scrapy crawl TweetScraper -a query=\"'+Company_Name+'\"'+' -a top_tweet=True')"
   ]
  },
  {
   "cell_type": "code",
   "execution_count": null,
   "metadata": {},
   "outputs": [],
   "source": [
    "! ./get_tweet.sh"
   ]
  },
  {
   "cell_type": "code",
   "execution_count": null,
   "metadata": {},
   "outputs": [],
   "source": [
    "tweet_df = ParseTweet.get_text()"
   ]
  },
  {
   "cell_type": "markdown",
   "metadata": {},
   "source": [
    "## LOAD MODEL"
   ]
  },
  {
   "cell_type": "code",
   "execution_count": 194,
   "metadata": {},
   "outputs": [],
   "source": [
    "with open('ridgemodel.pickle','rb') as f:\n",
    "    ridgemodel = pickle.load(f)"
   ]
  },
  {
   "cell_type": "markdown",
   "metadata": {},
   "source": [
    "The following cell generates naive mean estimator."
   ]
  },
  {
   "cell_type": "code",
   "execution_count": 200,
   "metadata": {},
   "outputs": [],
   "source": [
    "y_hat = ridgemodel.predict(test_X)"
   ]
  },
  {
   "cell_type": "code",
   "execution_count": 3,
   "metadata": {},
   "outputs": [],
   "source": [
    "with open('sentimentmodel.pickle','rb') as f:\n",
    "    sentiment = pickle.load(f)"
   ]
  },
  {
   "cell_type": "code",
   "execution_count": null,
   "metadata": {},
   "outputs": [],
   "source": [
    "res = sentiment.predict(tweet_df['text'])"
   ]
  },
  {
   "cell_type": "markdown",
   "metadata": {},
   "source": [
    "The following cell generates the combined estimator on the Current Ratio from 2009Q4 to 2018Q4. Some companies do not have related twitter posting during certain quarters, the combined estimator will equal to the mean estimator during these periods. "
   ]
  },
  {
   "cell_type": "code",
   "execution_count": null,
   "metadata": {},
   "outputs": [],
   "source": [
    "current_ratio = y_hat + res"
   ]
  },
  {
   "cell_type": "code",
   "execution_count": 222,
   "metadata": {},
   "outputs": [
    {
     "data": {
      "image/png": "[encoded data removed]",
      "text/plain": [
       "<Figure size 528x352 with 1 Axes>"
      ]
     },
     "metadata": {},
     "output_type": "display_data"
    }
   ],
   "source": [
    "plt.title(\"Current Ratio of \"+ Company_Name)\n",
    "\n",
    "plt.plot(y_hat,label = 'Mean Estimator')\n",
    "plt.plot(current_ratio,label = 'Adjusted Estimator')\n",
    "plt.xlabel('Time');"
   ]
  },
  {
   "cell_type": "code",
   "execution_count": null,
   "metadata": {},
   "outputs": [],
   "source": []
  }
 ],
 "metadata": {
  "kernelspec": {
   "display_name": "Python 3",
   "language": "python",
   "name": "python3"
  },
  "language_info": {
   "codemirror_mode": {
    "name": "ipython",
    "version": 3
   },
   "file_extension": ".py",
   "mimetype": "text/x-python",
   "name": "python",
   "nbconvert_exporter": "python",
   "pygments_lexer": "ipython3",
   "version": "3.6.8"
  }
 },
 "nbformat": 4,
 "nbformat_minor": 2
}
